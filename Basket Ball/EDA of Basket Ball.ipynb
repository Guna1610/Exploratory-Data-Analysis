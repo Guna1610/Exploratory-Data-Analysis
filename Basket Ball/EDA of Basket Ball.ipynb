{
 "cells": [
  {
   "cell_type": "markdown",
   "id": "4d8bcc83-8529-445f-996a-df4a1d328ebf",
   "metadata": {},
   "source": [
    "# Data Description\n",
    "Hello everyone!\n",
    "\n",
    "I've started to collecting and sorting a dataset about volleyball players in Volleyball National League in 2023.\n",
    "\n",
    "the recourse I've used is volleyballworld.com\n",
    "\n",
    "In each factor, I have used the average of the player during a game, which was the author of errors, points and percentage of positive performance of that player in each section.\n",
    "\n",
    "Here are some information about the Dataset:\n",
    "\n",
    "Position Feature represent the real position of each player\n",
    "\n",
    "OH : outside hitter\n",
    "\n",
    "OP : Opposite hitter\n",
    "\n",
    "MB : Middle blocker\n",
    "\n",
    "S : Setter\n",
    "\n",
    "L : Libero\n",
    "\n",
    "Attack : A player's overall average during each game in the offense factor\n",
    "\n",
    "Block : A player's overall average during each game in the defense factor.\n",
    "\n",
    "Defense on the net includes direct points, errors and touching the ball without changing points.\n",
    "\n",
    "Serve : Except for the libero player, the rest of the players serve during each turn to start the game. Each player's service average during the match is listed here.\n",
    "\n",
    "Set : The setter is responsible for setting the players. But in special cases, the rest of the players cooperate in this matter, and in the data analysis, we will find out which position the players have the most participation in setting after the setter.\n",
    "\n",
    "Set feature represent the average of successful sets, errors and attempts for each ball during a rally.\n",
    "\n",
    "Dig : the average of digs, errors and receptions\n",
    "\n",
    "Receive : Receive feature also represents the average of successful receptions, errors and attempts per mach.\n"
   ]
  },
  {
   "cell_type": "code",
   "execution_count": 1,
   "id": "5f292684-9e8e-4150-9eab-67ebac43912b",
   "metadata": {},
   "outputs": [],
   "source": [
    "%matplotlib inline\n",
    "import pandas as pd\n",
    "import numpy as np\n",
    "import seaborn as sns\n",
    "import matplotlib.pyplot as plt"
   ]
  },
  {
   "cell_type": "code",
   "execution_count": 3,
   "id": "e0ffa0f2-dbeb-44b0-a0fa-c4629a899d71",
   "metadata": {},
   "outputs": [
    {
     "data": {
      "text/html": [
       "<div>\n",
       "<style scoped>\n",
       "    .dataframe tbody tr th:only-of-type {\n",
       "        vertical-align: middle;\n",
       "    }\n",
       "\n",
       "    .dataframe tbody tr th {\n",
       "        vertical-align: top;\n",
       "    }\n",
       "\n",
       "    .dataframe thead th {\n",
       "        text-align: right;\n",
       "    }\n",
       "</style>\n",
       "<table border=\"1\" class=\"dataframe\">\n",
       "  <thead>\n",
       "    <tr style=\"text-align: right;\">\n",
       "      <th></th>\n",
       "      <th>Player</th>\n",
       "      <th>Country</th>\n",
       "      <th>Age</th>\n",
       "      <th>Attack</th>\n",
       "      <th>Block</th>\n",
       "      <th>Serve</th>\n",
       "      <th>Set</th>\n",
       "      <th>Dig</th>\n",
       "      <th>Receive</th>\n",
       "      <th>Position</th>\n",
       "    </tr>\n",
       "  </thead>\n",
       "  <tbody>\n",
       "    <tr>\n",
       "      <th>0</th>\n",
       "      <td>Ichikawa Yuki</td>\n",
       "      <td>Japan</td>\n",
       "      <td>28</td>\n",
       "      <td>15.80</td>\n",
       "      <td>1.13</td>\n",
       "      <td>1.40</td>\n",
       "      <td>0.07</td>\n",
       "      <td>4.80</td>\n",
       "      <td>5.60</td>\n",
       "      <td>OH</td>\n",
       "    </tr>\n",
       "    <tr>\n",
       "      <th>1</th>\n",
       "      <td>Romano Yuri</td>\n",
       "      <td>Italy</td>\n",
       "      <td>26</td>\n",
       "      <td>12.33</td>\n",
       "      <td>1.07</td>\n",
       "      <td>1.47</td>\n",
       "      <td>0.00</td>\n",
       "      <td>3.87</td>\n",
       "      <td>0.00</td>\n",
       "      <td>OP</td>\n",
       "    </tr>\n",
       "    <tr>\n",
       "      <th>2</th>\n",
       "      <td>Abdel-Aziz Nimir</td>\n",
       "      <td>Nederland</td>\n",
       "      <td>31</td>\n",
       "      <td>15.33</td>\n",
       "      <td>0.67</td>\n",
       "      <td>2.08</td>\n",
       "      <td>0.00</td>\n",
       "      <td>3.17</td>\n",
       "      <td>0.25</td>\n",
       "      <td>OP</td>\n",
       "    </tr>\n",
       "    <tr>\n",
       "      <th>3</th>\n",
       "      <td>Herrera Jaime Jesus</td>\n",
       "      <td>Cuba</td>\n",
       "      <td>28</td>\n",
       "      <td>15.00</td>\n",
       "      <td>0.92</td>\n",
       "      <td>1.75</td>\n",
       "      <td>0.00</td>\n",
       "      <td>3.33</td>\n",
       "      <td>0.17</td>\n",
       "      <td>OP</td>\n",
       "    </tr>\n",
       "    <tr>\n",
       "      <th>4</th>\n",
       "      <td>Takahashi Ran</td>\n",
       "      <td>Japan</td>\n",
       "      <td>22</td>\n",
       "      <td>11.53</td>\n",
       "      <td>0.67</td>\n",
       "      <td>1.00</td>\n",
       "      <td>0.07</td>\n",
       "      <td>6.40</td>\n",
       "      <td>5.07</td>\n",
       "      <td>OH</td>\n",
       "    </tr>\n",
       "    <tr>\n",
       "      <th>...</th>\n",
       "      <td>...</td>\n",
       "      <td>...</td>\n",
       "      <td>...</td>\n",
       "      <td>...</td>\n",
       "      <td>...</td>\n",
       "      <td>...</td>\n",
       "      <td>...</td>\n",
       "      <td>...</td>\n",
       "      <td>...</td>\n",
       "      <td>...</td>\n",
       "    </tr>\n",
       "    <tr>\n",
       "      <th>126</th>\n",
       "      <td>Graven Leonard</td>\n",
       "      <td>Germany</td>\n",
       "      <td>19</td>\n",
       "      <td>0.00</td>\n",
       "      <td>0.00</td>\n",
       "      <td>0.00</td>\n",
       "      <td>0.00</td>\n",
       "      <td>5.92</td>\n",
       "      <td>1.92</td>\n",
       "      <td>L</td>\n",
       "    </tr>\n",
       "    <tr>\n",
       "      <th>127</th>\n",
       "      <td>Balaso Fabio</td>\n",
       "      <td>Italy</td>\n",
       "      <td>28</td>\n",
       "      <td>0.00</td>\n",
       "      <td>0.00</td>\n",
       "      <td>0.00</td>\n",
       "      <td>0.00</td>\n",
       "      <td>10.00</td>\n",
       "      <td>5.00</td>\n",
       "      <td>L</td>\n",
       "    </tr>\n",
       "    <tr>\n",
       "      <th>128</th>\n",
       "      <td>Nacsimento Maique Reis</td>\n",
       "      <td>Brazil</td>\n",
       "      <td>26</td>\n",
       "      <td>0.00</td>\n",
       "      <td>0.00</td>\n",
       "      <td>0.00</td>\n",
       "      <td>0.00</td>\n",
       "      <td>5.08</td>\n",
       "      <td>2.46</td>\n",
       "      <td>L</td>\n",
       "    </tr>\n",
       "    <tr>\n",
       "      <th>129</th>\n",
       "      <td>Garcia Alvarez Yonder Roman</td>\n",
       "      <td>Cuba</td>\n",
       "      <td>30</td>\n",
       "      <td>0.00</td>\n",
       "      <td>0.00</td>\n",
       "      <td>0.00</td>\n",
       "      <td>0.00</td>\n",
       "      <td>4.25</td>\n",
       "      <td>3.25</td>\n",
       "      <td>L</td>\n",
       "    </tr>\n",
       "    <tr>\n",
       "      <th>130</th>\n",
       "      <td>Salparov Teodor</td>\n",
       "      <td>Bulgaria</td>\n",
       "      <td>41</td>\n",
       "      <td>0.00</td>\n",
       "      <td>0.00</td>\n",
       "      <td>0.00</td>\n",
       "      <td>0.00</td>\n",
       "      <td>5.00</td>\n",
       "      <td>3.75</td>\n",
       "      <td>L</td>\n",
       "    </tr>\n",
       "  </tbody>\n",
       "</table>\n",
       "<p>131 rows × 10 columns</p>\n",
       "</div>"
      ],
      "text/plain": [
       "                          Player    Country  Age  Attack  Block  Serve   Set  \\\n",
       "0                  Ichikawa Yuki      Japan   28   15.80   1.13   1.40  0.07   \n",
       "1                    Romano Yuri      Italy   26   12.33   1.07   1.47  0.00   \n",
       "2               Abdel-Aziz Nimir  Nederland   31   15.33   0.67   2.08  0.00   \n",
       "3            Herrera Jaime Jesus       Cuba   28   15.00   0.92   1.75  0.00   \n",
       "4                  Takahashi Ran      Japan   22   11.53   0.67   1.00  0.07   \n",
       "..                           ...        ...  ...     ...    ...    ...   ...   \n",
       "126               Graven Leonard    Germany   19    0.00   0.00   0.00  0.00   \n",
       "127                 Balaso Fabio      Italy   28    0.00   0.00   0.00  0.00   \n",
       "128      Nacsimento Maique Reis      Brazil   26    0.00   0.00   0.00  0.00   \n",
       "129  Garcia Alvarez Yonder Roman       Cuba   30    0.00   0.00   0.00  0.00   \n",
       "130              Salparov Teodor   Bulgaria   41    0.00   0.00   0.00  0.00   \n",
       "\n",
       "       Dig  Receive Position  \n",
       "0     4.80     5.60       OH  \n",
       "1     3.87     0.00       OP  \n",
       "2     3.17     0.25       OP  \n",
       "3     3.33     0.17       OP  \n",
       "4     6.40     5.07       OH  \n",
       "..     ...      ...      ...  \n",
       "126   5.92     1.92        L  \n",
       "127  10.00     5.00        L  \n",
       "128   5.08     2.46        L  \n",
       "129   4.25     3.25        L  \n",
       "130   5.00     3.75        L  \n",
       "\n",
       "[131 rows x 10 columns]"
      ]
     },
     "execution_count": 3,
     "metadata": {},
     "output_type": "execute_result"
    }
   ],
   "source": [
    "df = pd.read_csv(\"./VNL2023_Volley_Ball_Data.csv\")\n",
    "df"
   ]
  },
  {
   "cell_type": "code",
   "execution_count": 4,
   "id": "b6c10127-ea0e-4afc-b6bd-f171fc7e6ce3",
   "metadata": {},
   "outputs": [
    {
     "name": "stdout",
     "output_type": "stream",
     "text": [
      "<class 'pandas.core.frame.DataFrame'>\n",
      "RangeIndex: 131 entries, 0 to 130\n",
      "Data columns (total 10 columns):\n",
      " #   Column    Non-Null Count  Dtype  \n",
      "---  ------    --------------  -----  \n",
      " 0   Player    131 non-null    object \n",
      " 1   Country   131 non-null    object \n",
      " 2   Age       131 non-null    int64  \n",
      " 3   Attack    131 non-null    float64\n",
      " 4   Block     131 non-null    float64\n",
      " 5   Serve     131 non-null    float64\n",
      " 6   Set       131 non-null    float64\n",
      " 7   Dig       131 non-null    float64\n",
      " 8   Receive   131 non-null    float64\n",
      " 9   Position  131 non-null    object \n",
      "dtypes: float64(6), int64(1), object(3)\n",
      "memory usage: 10.4+ KB\n"
     ]
    }
   ],
   "source": [
    "df.info()\n"
   ]
  },
  {
   "cell_type": "code",
   "execution_count": 7,
   "id": "e148c4ad-8e7e-4f3e-84c9-2d8cb8fb5a35",
   "metadata": {},
   "outputs": [
    {
     "data": {
      "text/plain": [
       "Country\n",
       "Poland       10\n",
       "France       10\n",
       "Iran          9\n",
       "USA           9\n",
       "Japan         8\n",
       "Italy         8\n",
       "Slovenia      8\n",
       "Serbia        8\n",
       "Argentina     8\n",
       "Germany       8\n",
       "Brazil        8\n",
       "China         8\n",
       "Bulgaria      8\n",
       "Cuba          7\n",
       "Nederland     7\n",
       "Canada        7\n",
       "Name: count, dtype: int64"
      ]
     },
     "execution_count": 7,
     "metadata": {},
     "output_type": "execute_result"
    }
   ],
   "source": [
    "df.Country.value_counts()"
   ]
  },
  {
   "cell_type": "code",
   "execution_count": 8,
   "id": "0b772157-b77d-4481-b619-e5c8c766f406",
   "metadata": {},
   "outputs": [
    {
     "data": {
      "text/plain": [
       "Player      131\n",
       "Country      16\n",
       "Age          21\n",
       "Attack      101\n",
       "Block        65\n",
       "Serve        55\n",
       "Set          23\n",
       "Dig          99\n",
       "Receive      64\n",
       "Position      5\n",
       "dtype: int64"
      ]
     },
     "execution_count": 8,
     "metadata": {},
     "output_type": "execute_result"
    }
   ],
   "source": [
    "df.nunique()"
   ]
  },
  {
   "cell_type": "code",
   "execution_count": 10,
   "id": "f5600a71-d853-4914-84d9-7d1d512dbe33",
   "metadata": {},
   "outputs": [
    {
     "data": {
      "text/html": [
       "<div>\n",
       "<style scoped>\n",
       "    .dataframe tbody tr th:only-of-type {\n",
       "        vertical-align: middle;\n",
       "    }\n",
       "\n",
       "    .dataframe tbody tr th {\n",
       "        vertical-align: top;\n",
       "    }\n",
       "\n",
       "    .dataframe thead th {\n",
       "        text-align: right;\n",
       "    }\n",
       "</style>\n",
       "<table border=\"1\" class=\"dataframe\">\n",
       "  <thead>\n",
       "    <tr style=\"text-align: right;\">\n",
       "      <th></th>\n",
       "      <th>Player</th>\n",
       "      <th>Country</th>\n",
       "      <th>Age</th>\n",
       "      <th>Attack</th>\n",
       "      <th>Block</th>\n",
       "      <th>Serve</th>\n",
       "      <th>Set</th>\n",
       "      <th>Dig</th>\n",
       "      <th>Receive</th>\n",
       "      <th>Position</th>\n",
       "    </tr>\n",
       "  </thead>\n",
       "  <tbody>\n",
       "    <tr>\n",
       "      <th>0</th>\n",
       "      <td>Ichikawa Yuki</td>\n",
       "      <td>Japan</td>\n",
       "      <td>28</td>\n",
       "      <td>15.80</td>\n",
       "      <td>1.13</td>\n",
       "      <td>1.40</td>\n",
       "      <td>0.07</td>\n",
       "      <td>4.80</td>\n",
       "      <td>5.60</td>\n",
       "      <td>OH</td>\n",
       "    </tr>\n",
       "    <tr>\n",
       "      <th>1</th>\n",
       "      <td>Romano Yuri</td>\n",
       "      <td>Italy</td>\n",
       "      <td>26</td>\n",
       "      <td>12.33</td>\n",
       "      <td>1.07</td>\n",
       "      <td>1.47</td>\n",
       "      <td>0.00</td>\n",
       "      <td>3.87</td>\n",
       "      <td>0.00</td>\n",
       "      <td>OP</td>\n",
       "    </tr>\n",
       "    <tr>\n",
       "      <th>2</th>\n",
       "      <td>Abdel-Aziz Nimir</td>\n",
       "      <td>Nederland</td>\n",
       "      <td>31</td>\n",
       "      <td>15.33</td>\n",
       "      <td>0.67</td>\n",
       "      <td>2.08</td>\n",
       "      <td>0.00</td>\n",
       "      <td>3.17</td>\n",
       "      <td>0.25</td>\n",
       "      <td>OP</td>\n",
       "    </tr>\n",
       "    <tr>\n",
       "      <th>3</th>\n",
       "      <td>Herrera Jaime Jesus</td>\n",
       "      <td>Cuba</td>\n",
       "      <td>28</td>\n",
       "      <td>15.00</td>\n",
       "      <td>0.92</td>\n",
       "      <td>1.75</td>\n",
       "      <td>0.00</td>\n",
       "      <td>3.33</td>\n",
       "      <td>0.17</td>\n",
       "      <td>OP</td>\n",
       "    </tr>\n",
       "    <tr>\n",
       "      <th>4</th>\n",
       "      <td>Takahashi Ran</td>\n",
       "      <td>Japan</td>\n",
       "      <td>22</td>\n",
       "      <td>11.53</td>\n",
       "      <td>0.67</td>\n",
       "      <td>1.00</td>\n",
       "      <td>0.07</td>\n",
       "      <td>6.40</td>\n",
       "      <td>5.07</td>\n",
       "      <td>OH</td>\n",
       "    </tr>\n",
       "  </tbody>\n",
       "</table>\n",
       "</div>"
      ],
      "text/plain": [
       "                Player    Country  Age  Attack  Block  Serve   Set   Dig  \\\n",
       "0        Ichikawa Yuki      Japan   28   15.80   1.13   1.40  0.07  4.80   \n",
       "1          Romano Yuri      Italy   26   12.33   1.07   1.47  0.00  3.87   \n",
       "2     Abdel-Aziz Nimir  Nederland   31   15.33   0.67   2.08  0.00  3.17   \n",
       "3  Herrera Jaime Jesus       Cuba   28   15.00   0.92   1.75  0.00  3.33   \n",
       "4        Takahashi Ran      Japan   22   11.53   0.67   1.00  0.07  6.40   \n",
       "\n",
       "   Receive Position  \n",
       "0     5.60       OH  \n",
       "1     0.00       OP  \n",
       "2     0.25       OP  \n",
       "3     0.17       OP  \n",
       "4     5.07       OH  "
      ]
     },
     "execution_count": 10,
     "metadata": {},
     "output_type": "execute_result"
    }
   ],
   "source": [
    "df.head(5)"
   ]
  },
  {
   "cell_type": "code",
   "execution_count": 32,
   "id": "55010a99-58d0-4bc5-864d-2954dcbc72eb",
   "metadata": {},
   "outputs": [
    {
     "data": {
      "text/plain": [
       "Country\n",
       "Poland       10\n",
       "France       10\n",
       "Iran          9\n",
       "USA           9\n",
       "Japan         8\n",
       "Italy         8\n",
       "Slovenia      8\n",
       "Serbia        8\n",
       "Argentina     8\n",
       "Germany       8\n",
       "Brazil        8\n",
       "China         8\n",
       "Bulgaria      8\n",
       "Cuba          7\n",
       "Nederland     7\n",
       "Canada        7\n",
       "Name: count, dtype: int64"
      ]
     },
     "execution_count": 32,
     "metadata": {},
     "output_type": "execute_result"
    }
   ],
   "source": [
    "df.Country.value_counts()"
   ]
  },
  {
   "cell_type": "code",
   "execution_count": 71,
   "id": "c5975845-842f-460c-92d9-a33b29a535dd",
   "metadata": {},
   "outputs": [],
   "source": [
    "country = df.groupby(\"Country\").value_counts().head(30)"
   ]
  },
  {
   "cell_type": "code",
   "execution_count": 72,
   "id": "32e42e52-d0ca-4a17-abeb-2e06438311fe",
   "metadata": {},
   "outputs": [
    {
     "data": {
      "image/png": "[encoded data removed]",
      "text/plain": [
       "<Figure size 640x480 with 1 Axes>"
      ]
     },
     "metadata": {},
     "output_type": "display_data"
    }
   ],
   "source": [
    "df.Country.value_counts().plot(kind = 'bar')\n",
    "plt.xlabel('Country')\n",
    "plt.ylabel('No.Of Players')\n",
    "plt.title('No.of Players from each Country')\n",
    "plt.show()"
   ]
  },
  {
   "cell_type": "code",
   "execution_count": 59,
   "id": "dff2ae44-ea6a-44f0-96f2-543927ef2029",
   "metadata": {},
   "outputs": [],
   "source": [
    "top_15_setpoints = df.groupby('Player')['Set'].sum().sort_values(ascending = False).head(15)"
   ]
  },
  {
   "cell_type": "code",
   "execution_count": 60,
   "id": "b4585333-e0da-4136-8535-a5ab215833d4",
   "metadata": {},
   "outputs": [
    {
     "data": {
      "text/plain": [
       "Player\n",
       "De Cecco Luciano       26.89\n",
       "Giannelli Simone       25.18\n",
       "Christenson Micah      21.67\n",
       "Sekita Masahiro        19.73\n",
       "Rezende Bruno Mossa    18.38\n",
       "Seganov Georgi         17.92\n",
       "Janusz Marcin          17.86\n",
       "Brizard Antoine        17.33\n",
       "Ropret Gregor          17.15\n",
       "Keemink Wessel         17.08\n",
       "Todorovic Vuk          16.42\n",
       "Herr Luke              16.00\n",
       "Tille Johannes         15.33\n",
       "Taboada Diaz Lyvan     15.25\n",
       "Wang Hebin             12.50\n",
       "Name: Set, dtype: float64"
      ]
     },
     "execution_count": 60,
     "metadata": {},
     "output_type": "execute_result"
    }
   ],
   "source": [
    "top_15_setpoints"
   ]
  },
  {
   "cell_type": "code",
   "execution_count": 61,
   "id": "9a5a186b-3a33-4432-8967-ae285e1a6cdf",
   "metadata": {},
   "outputs": [
    {
     "data": {
      "text/html": [
       "<div>\n",
       "<style scoped>\n",
       "    .dataframe tbody tr th:only-of-type {\n",
       "        vertical-align: middle;\n",
       "    }\n",
       "\n",
       "    .dataframe tbody tr th {\n",
       "        vertical-align: top;\n",
       "    }\n",
       "\n",
       "    .dataframe thead th {\n",
       "        text-align: right;\n",
       "    }\n",
       "</style>\n",
       "<table border=\"1\" class=\"dataframe\">\n",
       "  <thead>\n",
       "    <tr style=\"text-align: right;\">\n",
       "      <th></th>\n",
       "      <th>Player</th>\n",
       "      <th>Country</th>\n",
       "      <th>Age</th>\n",
       "      <th>Attack</th>\n",
       "      <th>Block</th>\n",
       "      <th>Serve</th>\n",
       "      <th>Set</th>\n",
       "      <th>Dig</th>\n",
       "      <th>Receive</th>\n",
       "      <th>Position</th>\n",
       "    </tr>\n",
       "  </thead>\n",
       "  <tbody>\n",
       "    <tr>\n",
       "      <th>0</th>\n",
       "      <td>Ichikawa Yuki</td>\n",
       "      <td>Japan</td>\n",
       "      <td>28</td>\n",
       "      <td>15.80</td>\n",
       "      <td>1.13</td>\n",
       "      <td>1.40</td>\n",
       "      <td>0.07</td>\n",
       "      <td>4.80</td>\n",
       "      <td>5.6</td>\n",
       "      <td>OH</td>\n",
       "    </tr>\n",
       "    <tr>\n",
       "      <th>1</th>\n",
       "      <td>Romano Yuri</td>\n",
       "      <td>Italy</td>\n",
       "      <td>26</td>\n",
       "      <td>12.33</td>\n",
       "      <td>1.07</td>\n",
       "      <td>1.47</td>\n",
       "      <td>0.00</td>\n",
       "      <td>3.87</td>\n",
       "      <td>0.0</td>\n",
       "      <td>OP</td>\n",
       "    </tr>\n",
       "  </tbody>\n",
       "</table>\n",
       "</div>"
      ],
      "text/plain": [
       "          Player Country  Age  Attack  Block  Serve   Set   Dig  Receive  \\\n",
       "0  Ichikawa Yuki   Japan   28   15.80   1.13   1.40  0.07  4.80      5.6   \n",
       "1    Romano Yuri   Italy   26   12.33   1.07   1.47  0.00  3.87      0.0   \n",
       "\n",
       "  Position  \n",
       "0       OH  \n",
       "1       OP  "
      ]
     },
     "execution_count": 61,
     "metadata": {},
     "output_type": "execute_result"
    }
   ],
   "source": [
    "df.head(2)"
   ]
  },
  {
   "cell_type": "code",
   "execution_count": 146,
   "id": "2d3d87fb-cad9-4ac5-a984-b983ae8488ce",
   "metadata": {},
   "outputs": [
    {
     "data": {
      "text/plain": [
       "Player\n",
       "Ichikawa Yuki                15.80\n",
       "Abdel-Aziz Nimir             15.33\n",
       "Faure Theo                   15.25\n",
       "Herrera Jaime Jesus          15.00\n",
       "Luburic Drazen               14.33\n",
       "Nikolov Aleksandar           14.25\n",
       "Zhang Jingyin                13.50\n",
       "Urnaut Tine                  12.62\n",
       "Souza Alen                   12.46\n",
       "Lopez Castro Miguel Angel    12.33\n",
       "Romano Yuri                  12.33\n",
       "Esmaeilnezhad Amin           12.00\n",
       "Souza Ricardo Lucarelli      11.85\n",
       "Palonsky Luciano             11.62\n",
       "Takahashi Ran                11.53\n",
       "Name: Attack, dtype: float64"
      ]
     },
     "execution_count": 146,
     "metadata": {},
     "output_type": "execute_result"
    }
   ],
   "source": [
    "df.groupby('Player')['Attack'].max().sort_values(ascending = False).head(15)"
   ]
  },
  {
   "cell_type": "code",
   "execution_count": 78,
   "id": "39ac7d0d-a6ad-4fed-b867-2c3ff6b6695f",
   "metadata": {},
   "outputs": [],
   "source": [
    "df_country = country.reset_index()"
   ]
  },
  {
   "cell_type": "code",
   "execution_count": 81,
   "id": "d1a59dbe-ba6d-4ffc-a56d-b60bf647284a",
   "metadata": {},
   "outputs": [
    {
     "data": {
      "text/html": [
       "<div>\n",
       "<style scoped>\n",
       "    .dataframe tbody tr th:only-of-type {\n",
       "        vertical-align: middle;\n",
       "    }\n",
       "\n",
       "    .dataframe tbody tr th {\n",
       "        vertical-align: top;\n",
       "    }\n",
       "\n",
       "    .dataframe thead th {\n",
       "        text-align: right;\n",
       "    }\n",
       "</style>\n",
       "<table border=\"1\" class=\"dataframe\">\n",
       "  <thead>\n",
       "    <tr style=\"text-align: right;\">\n",
       "      <th></th>\n",
       "      <th>Country</th>\n",
       "      <th>Player</th>\n",
       "      <th>Age</th>\n",
       "      <th>Attack</th>\n",
       "      <th>Block</th>\n",
       "      <th>Serve</th>\n",
       "      <th>Set</th>\n",
       "      <th>Dig</th>\n",
       "      <th>Receive</th>\n",
       "      <th>Position</th>\n",
       "      <th>count</th>\n",
       "    </tr>\n",
       "  </thead>\n",
       "  <tbody>\n",
       "    <tr>\n",
       "      <th>0</th>\n",
       "      <td>Argentina</td>\n",
       "      <td>Danani Santiago</td>\n",
       "      <td>28</td>\n",
       "      <td>0.00</td>\n",
       "      <td>0.00</td>\n",
       "      <td>0.00</td>\n",
       "      <td>0.00</td>\n",
       "      <td>8.69</td>\n",
       "      <td>6.15</td>\n",
       "      <td>L</td>\n",
       "      <td>1</td>\n",
       "    </tr>\n",
       "    <tr>\n",
       "      <th>1</th>\n",
       "      <td>Argentina</td>\n",
       "      <td>De Cecco Luciano</td>\n",
       "      <td>35</td>\n",
       "      <td>0.78</td>\n",
       "      <td>0.56</td>\n",
       "      <td>0.44</td>\n",
       "      <td>26.89</td>\n",
       "      <td>6.33</td>\n",
       "      <td>0.00</td>\n",
       "      <td>S</td>\n",
       "      <td>1</td>\n",
       "    </tr>\n",
       "    <tr>\n",
       "      <th>2</th>\n",
       "      <td>Argentina</td>\n",
       "      <td>Koukartsev Pablo Sergio</td>\n",
       "      <td>30</td>\n",
       "      <td>6.23</td>\n",
       "      <td>0.46</td>\n",
       "      <td>0.23</td>\n",
       "      <td>0.00</td>\n",
       "      <td>2.00</td>\n",
       "      <td>0.38</td>\n",
       "      <td>OP</td>\n",
       "      <td>1</td>\n",
       "    </tr>\n",
       "    <tr>\n",
       "      <th>3</th>\n",
       "      <td>Argentina</td>\n",
       "      <td>Lima Bruno</td>\n",
       "      <td>27</td>\n",
       "      <td>9.15</td>\n",
       "      <td>0.54</td>\n",
       "      <td>0.54</td>\n",
       "      <td>0.00</td>\n",
       "      <td>2.31</td>\n",
       "      <td>0.15</td>\n",
       "      <td>OP</td>\n",
       "      <td>1</td>\n",
       "    </tr>\n",
       "    <tr>\n",
       "      <th>4</th>\n",
       "      <td>Argentina</td>\n",
       "      <td>Loser Agustin</td>\n",
       "      <td>26</td>\n",
       "      <td>7.92</td>\n",
       "      <td>4.08</td>\n",
       "      <td>0.92</td>\n",
       "      <td>0.00</td>\n",
       "      <td>2.31</td>\n",
       "      <td>0.69</td>\n",
       "      <td>MB</td>\n",
       "      <td>1</td>\n",
       "    </tr>\n",
       "    <tr>\n",
       "      <th>5</th>\n",
       "      <td>Argentina</td>\n",
       "      <td>Palonsky Luciano</td>\n",
       "      <td>24</td>\n",
       "      <td>11.62</td>\n",
       "      <td>1.00</td>\n",
       "      <td>1.46</td>\n",
       "      <td>0.00</td>\n",
       "      <td>5.62</td>\n",
       "      <td>4.38</td>\n",
       "      <td>OH</td>\n",
       "      <td>1</td>\n",
       "    </tr>\n",
       "    <tr>\n",
       "      <th>6</th>\n",
       "      <td>Argentina</td>\n",
       "      <td>Vicentin Luciano</td>\n",
       "      <td>23</td>\n",
       "      <td>8.62</td>\n",
       "      <td>1.15</td>\n",
       "      <td>0.46</td>\n",
       "      <td>0.00</td>\n",
       "      <td>5.54</td>\n",
       "      <td>4.31</td>\n",
       "      <td>OH</td>\n",
       "      <td>1</td>\n",
       "    </tr>\n",
       "    <tr>\n",
       "      <th>7</th>\n",
       "      <td>Argentina</td>\n",
       "      <td>Zerba Nicolas</td>\n",
       "      <td>24</td>\n",
       "      <td>3.08</td>\n",
       "      <td>0.69</td>\n",
       "      <td>0.23</td>\n",
       "      <td>0.00</td>\n",
       "      <td>1.08</td>\n",
       "      <td>0.23</td>\n",
       "      <td>MB</td>\n",
       "      <td>1</td>\n",
       "    </tr>\n",
       "    <tr>\n",
       "      <th>8</th>\n",
       "      <td>Brazil</td>\n",
       "      <td>Honorato Henrique Dantas Nobrega</td>\n",
       "      <td>26</td>\n",
       "      <td>5.92</td>\n",
       "      <td>1.15</td>\n",
       "      <td>0.38</td>\n",
       "      <td>0.00</td>\n",
       "      <td>3.23</td>\n",
       "      <td>3.00</td>\n",
       "      <td>OH</td>\n",
       "      <td>1</td>\n",
       "    </tr>\n",
       "    <tr>\n",
       "      <th>9</th>\n",
       "      <td>Brazil</td>\n",
       "      <td>Nacsimento Maique Reis</td>\n",
       "      <td>26</td>\n",
       "      <td>0.00</td>\n",
       "      <td>0.00</td>\n",
       "      <td>0.00</td>\n",
       "      <td>0.00</td>\n",
       "      <td>5.08</td>\n",
       "      <td>2.46</td>\n",
       "      <td>L</td>\n",
       "      <td>1</td>\n",
       "    </tr>\n",
       "  </tbody>\n",
       "</table>\n",
       "</div>"
      ],
      "text/plain": [
       "     Country                            Player  Age  Attack  Block  Serve  \\\n",
       "0  Argentina                   Danani Santiago   28    0.00   0.00   0.00   \n",
       "1  Argentina                  De Cecco Luciano   35    0.78   0.56   0.44   \n",
       "2  Argentina           Koukartsev Pablo Sergio   30    6.23   0.46   0.23   \n",
       "3  Argentina                        Lima Bruno   27    9.15   0.54   0.54   \n",
       "4  Argentina                     Loser Agustin   26    7.92   4.08   0.92   \n",
       "5  Argentina                  Palonsky Luciano   24   11.62   1.00   1.46   \n",
       "6  Argentina                 Vicentin Luciano    23    8.62   1.15   0.46   \n",
       "7  Argentina                     Zerba Nicolas   24    3.08   0.69   0.23   \n",
       "8     Brazil  Honorato Henrique Dantas Nobrega   26    5.92   1.15   0.38   \n",
       "9     Brazil           Nacsimento Maique Reis    26    0.00   0.00   0.00   \n",
       "\n",
       "     Set   Dig  Receive Position  count  \n",
       "0   0.00  8.69     6.15        L      1  \n",
       "1  26.89  6.33     0.00        S      1  \n",
       "2   0.00  2.00     0.38       OP      1  \n",
       "3   0.00  2.31     0.15       OP      1  \n",
       "4   0.00  2.31     0.69       MB      1  \n",
       "5   0.00  5.62     4.38       OH      1  \n",
       "6   0.00  5.54     4.31       OH      1  \n",
       "7   0.00  1.08     0.23       MB      1  \n",
       "8   0.00  3.23     3.00       OH      1  \n",
       "9   0.00  5.08     2.46        L      1  "
      ]
     },
     "execution_count": 81,
     "metadata": {},
     "output_type": "execute_result"
    }
   ],
   "source": [
    "df_country.head(10)"
   ]
  },
  {
   "cell_type": "code",
   "execution_count": 82,
   "id": "d1c7c526-ec82-4713-bf2e-9f52ab486ad2",
   "metadata": {},
   "outputs": [
    {
     "data": {
      "text/html": [
       "<div>\n",
       "<style scoped>\n",
       "    .dataframe tbody tr th:only-of-type {\n",
       "        vertical-align: middle;\n",
       "    }\n",
       "\n",
       "    .dataframe tbody tr th {\n",
       "        vertical-align: top;\n",
       "    }\n",
       "\n",
       "    .dataframe thead th {\n",
       "        text-align: right;\n",
       "    }\n",
       "</style>\n",
       "<table border=\"1\" class=\"dataframe\">\n",
       "  <thead>\n",
       "    <tr style=\"text-align: right;\">\n",
       "      <th></th>\n",
       "      <th>Player</th>\n",
       "      <th>Country</th>\n",
       "      <th>Age</th>\n",
       "      <th>Attack</th>\n",
       "      <th>Block</th>\n",
       "      <th>Serve</th>\n",
       "      <th>Set</th>\n",
       "      <th>Dig</th>\n",
       "      <th>Receive</th>\n",
       "      <th>Position</th>\n",
       "    </tr>\n",
       "  </thead>\n",
       "  <tbody>\n",
       "    <tr>\n",
       "      <th>0</th>\n",
       "      <td>Ichikawa Yuki</td>\n",
       "      <td>Japan</td>\n",
       "      <td>28</td>\n",
       "      <td>15.80</td>\n",
       "      <td>1.13</td>\n",
       "      <td>1.40</td>\n",
       "      <td>0.07</td>\n",
       "      <td>4.80</td>\n",
       "      <td>5.60</td>\n",
       "      <td>OH</td>\n",
       "    </tr>\n",
       "    <tr>\n",
       "      <th>1</th>\n",
       "      <td>Romano Yuri</td>\n",
       "      <td>Italy</td>\n",
       "      <td>26</td>\n",
       "      <td>12.33</td>\n",
       "      <td>1.07</td>\n",
       "      <td>1.47</td>\n",
       "      <td>0.00</td>\n",
       "      <td>3.87</td>\n",
       "      <td>0.00</td>\n",
       "      <td>OP</td>\n",
       "    </tr>\n",
       "    <tr>\n",
       "      <th>2</th>\n",
       "      <td>Abdel-Aziz Nimir</td>\n",
       "      <td>Nederland</td>\n",
       "      <td>31</td>\n",
       "      <td>15.33</td>\n",
       "      <td>0.67</td>\n",
       "      <td>2.08</td>\n",
       "      <td>0.00</td>\n",
       "      <td>3.17</td>\n",
       "      <td>0.25</td>\n",
       "      <td>OP</td>\n",
       "    </tr>\n",
       "    <tr>\n",
       "      <th>3</th>\n",
       "      <td>Herrera Jaime Jesus</td>\n",
       "      <td>Cuba</td>\n",
       "      <td>28</td>\n",
       "      <td>15.00</td>\n",
       "      <td>0.92</td>\n",
       "      <td>1.75</td>\n",
       "      <td>0.00</td>\n",
       "      <td>3.33</td>\n",
       "      <td>0.17</td>\n",
       "      <td>OP</td>\n",
       "    </tr>\n",
       "    <tr>\n",
       "      <th>4</th>\n",
       "      <td>Takahashi Ran</td>\n",
       "      <td>Japan</td>\n",
       "      <td>22</td>\n",
       "      <td>11.53</td>\n",
       "      <td>0.67</td>\n",
       "      <td>1.00</td>\n",
       "      <td>0.07</td>\n",
       "      <td>6.40</td>\n",
       "      <td>5.07</td>\n",
       "      <td>OH</td>\n",
       "    </tr>\n",
       "  </tbody>\n",
       "</table>\n",
       "</div>"
      ],
      "text/plain": [
       "                Player    Country  Age  Attack  Block  Serve   Set   Dig  \\\n",
       "0        Ichikawa Yuki      Japan   28   15.80   1.13   1.40  0.07  4.80   \n",
       "1          Romano Yuri      Italy   26   12.33   1.07   1.47  0.00  3.87   \n",
       "2     Abdel-Aziz Nimir  Nederland   31   15.33   0.67   2.08  0.00  3.17   \n",
       "3  Herrera Jaime Jesus       Cuba   28   15.00   0.92   1.75  0.00  3.33   \n",
       "4        Takahashi Ran      Japan   22   11.53   0.67   1.00  0.07  6.40   \n",
       "\n",
       "   Receive Position  \n",
       "0     5.60       OH  \n",
       "1     0.00       OP  \n",
       "2     0.25       OP  \n",
       "3     0.17       OP  \n",
       "4     5.07       OH  "
      ]
     },
     "execution_count": 82,
     "metadata": {},
     "output_type": "execute_result"
    }
   ],
   "source": [
    "df.head()"
   ]
  },
  {
   "cell_type": "code",
   "execution_count": 89,
   "id": "5af264c8-d6a1-45bf-b96c-37bb4bf675f5",
   "metadata": {},
   "outputs": [
    {
     "data": {
      "text/plain": [
       "(131, 10)"
      ]
     },
     "execution_count": 89,
     "metadata": {},
     "output_type": "execute_result"
    }
   ],
   "source": [
    "df.shape"
   ]
  },
  {
   "cell_type": "code",
   "execution_count": 90,
   "id": "fa5a8466-f153-4a33-bde8-a2a0f4be5288",
   "metadata": {},
   "outputs": [
    {
     "data": {
      "text/html": [
       "<div>\n",
       "<style scoped>\n",
       "    .dataframe tbody tr th:only-of-type {\n",
       "        vertical-align: middle;\n",
       "    }\n",
       "\n",
       "    .dataframe tbody tr th {\n",
       "        vertical-align: top;\n",
       "    }\n",
       "\n",
       "    .dataframe thead th {\n",
       "        text-align: right;\n",
       "    }\n",
       "</style>\n",
       "<table border=\"1\" class=\"dataframe\">\n",
       "  <thead>\n",
       "    <tr style=\"text-align: right;\">\n",
       "      <th></th>\n",
       "      <th>Age</th>\n",
       "      <th>Attack</th>\n",
       "      <th>Block</th>\n",
       "      <th>Serve</th>\n",
       "      <th>Set</th>\n",
       "      <th>Dig</th>\n",
       "      <th>Receive</th>\n",
       "    </tr>\n",
       "  </thead>\n",
       "  <tbody>\n",
       "    <tr>\n",
       "      <th>count</th>\n",
       "      <td>131.000000</td>\n",
       "      <td>131.000000</td>\n",
       "      <td>131.000000</td>\n",
       "      <td>131.000000</td>\n",
       "      <td>131.000000</td>\n",
       "      <td>131.000000</td>\n",
       "      <td>131.000000</td>\n",
       "    </tr>\n",
       "    <tr>\n",
       "      <th>mean</th>\n",
       "      <td>27.809160</td>\n",
       "      <td>5.642672</td>\n",
       "      <td>0.845573</td>\n",
       "      <td>0.535802</td>\n",
       "      <td>2.192595</td>\n",
       "      <td>3.428397</td>\n",
       "      <td>1.684198</td>\n",
       "    </tr>\n",
       "    <tr>\n",
       "      <th>std</th>\n",
       "      <td>4.186268</td>\n",
       "      <td>4.256229</td>\n",
       "      <td>0.700896</td>\n",
       "      <td>0.454346</td>\n",
       "      <td>6.031587</td>\n",
       "      <td>2.077823</td>\n",
       "      <td>1.989939</td>\n",
       "    </tr>\n",
       "    <tr>\n",
       "      <th>min</th>\n",
       "      <td>19.000000</td>\n",
       "      <td>0.000000</td>\n",
       "      <td>0.000000</td>\n",
       "      <td>0.000000</td>\n",
       "      <td>0.000000</td>\n",
       "      <td>0.530000</td>\n",
       "      <td>0.000000</td>\n",
       "    </tr>\n",
       "    <tr>\n",
       "      <th>25%</th>\n",
       "      <td>25.000000</td>\n",
       "      <td>2.800000</td>\n",
       "      <td>0.370000</td>\n",
       "      <td>0.240000</td>\n",
       "      <td>0.000000</td>\n",
       "      <td>1.920000</td>\n",
       "      <td>0.000000</td>\n",
       "    </tr>\n",
       "    <tr>\n",
       "      <th>50%</th>\n",
       "      <td>27.000000</td>\n",
       "      <td>5.170000</td>\n",
       "      <td>0.690000</td>\n",
       "      <td>0.420000</td>\n",
       "      <td>0.000000</td>\n",
       "      <td>3.000000</td>\n",
       "      <td>0.330000</td>\n",
       "    </tr>\n",
       "    <tr>\n",
       "      <th>75%</th>\n",
       "      <td>30.000000</td>\n",
       "      <td>8.600000</td>\n",
       "      <td>1.140000</td>\n",
       "      <td>0.760000</td>\n",
       "      <td>0.000000</td>\n",
       "      <td>4.510000</td>\n",
       "      <td>3.385000</td>\n",
       "    </tr>\n",
       "    <tr>\n",
       "      <th>max</th>\n",
       "      <td>41.000000</td>\n",
       "      <td>15.800000</td>\n",
       "      <td>4.080000</td>\n",
       "      <td>2.080000</td>\n",
       "      <td>26.890000</td>\n",
       "      <td>11.440000</td>\n",
       "      <td>6.690000</td>\n",
       "    </tr>\n",
       "  </tbody>\n",
       "</table>\n",
       "</div>"
      ],
      "text/plain": [
       "              Age      Attack       Block       Serve         Set         Dig  \\\n",
       "count  131.000000  131.000000  131.000000  131.000000  131.000000  131.000000   \n",
       "mean    27.809160    5.642672    0.845573    0.535802    2.192595    3.428397   \n",
       "std      4.186268    4.256229    0.700896    0.454346    6.031587    2.077823   \n",
       "min     19.000000    0.000000    0.000000    0.000000    0.000000    0.530000   \n",
       "25%     25.000000    2.800000    0.370000    0.240000    0.000000    1.920000   \n",
       "50%     27.000000    5.170000    0.690000    0.420000    0.000000    3.000000   \n",
       "75%     30.000000    8.600000    1.140000    0.760000    0.000000    4.510000   \n",
       "max     41.000000   15.800000    4.080000    2.080000   26.890000   11.440000   \n",
       "\n",
       "          Receive  \n",
       "count  131.000000  \n",
       "mean     1.684198  \n",
       "std      1.989939  \n",
       "min      0.000000  \n",
       "25%      0.000000  \n",
       "50%      0.330000  \n",
       "75%      3.385000  \n",
       "max      6.690000  "
      ]
     },
     "execution_count": 90,
     "metadata": {},
     "output_type": "execute_result"
    }
   ],
   "source": [
    "df.describe()"
   ]
  },
  {
   "cell_type": "code",
   "execution_count": 92,
   "id": "877785d3-1283-4512-ac29-a452f5cd4fea",
   "metadata": {},
   "outputs": [
    {
     "data": {
      "text/plain": [
       "Player      0\n",
       "Country     0\n",
       "Age         0\n",
       "Attack      0\n",
       "Block       0\n",
       "Serve       0\n",
       "Set         0\n",
       "Dig         0\n",
       "Receive     0\n",
       "Position    0\n",
       "dtype: int64"
      ]
     },
     "execution_count": 92,
     "metadata": {},
     "output_type": "execute_result"
    }
   ],
   "source": [
    "df.isna().sum()"
   ]
  },
  {
   "cell_type": "code",
   "execution_count": 96,
   "id": "ebeef6c5-f4b7-4683-996c-bdf212ed65ea",
   "metadata": {},
   "outputs": [
    {
     "data": {
      "text/plain": [
       "Player       object\n",
       "Country      object\n",
       "Age           int64\n",
       "Attack      float64\n",
       "Block       float64\n",
       "Serve       float64\n",
       "Set         float64\n",
       "Dig         float64\n",
       "Receive     float64\n",
       "Position     object\n",
       "dtype: object"
      ]
     },
     "execution_count": 96,
     "metadata": {},
     "output_type": "execute_result"
    }
   ],
   "source": [
    "df.dtypes"
   ]
  },
  {
   "cell_type": "code",
   "execution_count": 100,
   "id": "94fd9515-ff8d-4d5a-ba9c-2781078e3378",
   "metadata": {},
   "outputs": [],
   "source": [
    "numeric_cols = df.select_dtypes(include = ['int','float']).columns\n"
   ]
  },
  {
   "cell_type": "code",
   "execution_count": 107,
   "id": "c4bf67e1-36c1-4dfe-9ffb-952313e6f91e",
   "metadata": {},
   "outputs": [],
   "source": [
    "corr_mat = df[numeric_cols].corr()"
   ]
  },
  {
   "cell_type": "code",
   "execution_count": 108,
   "id": "f7da15d4-33b2-45db-a9fa-bd3adb6b8026",
   "metadata": {},
   "outputs": [
    {
     "data": {
      "text/html": [
       "<div>\n",
       "<style scoped>\n",
       "    .dataframe tbody tr th:only-of-type {\n",
       "        vertical-align: middle;\n",
       "    }\n",
       "\n",
       "    .dataframe tbody tr th {\n",
       "        vertical-align: top;\n",
       "    }\n",
       "\n",
       "    .dataframe thead th {\n",
       "        text-align: right;\n",
       "    }\n",
       "</style>\n",
       "<table border=\"1\" class=\"dataframe\">\n",
       "  <thead>\n",
       "    <tr style=\"text-align: right;\">\n",
       "      <th></th>\n",
       "      <th>Age</th>\n",
       "      <th>Attack</th>\n",
       "      <th>Block</th>\n",
       "      <th>Serve</th>\n",
       "      <th>Set</th>\n",
       "      <th>Dig</th>\n",
       "      <th>Receive</th>\n",
       "    </tr>\n",
       "  </thead>\n",
       "  <tbody>\n",
       "    <tr>\n",
       "      <th>Age</th>\n",
       "      <td>1.000000</td>\n",
       "      <td>-0.177849</td>\n",
       "      <td>-0.101040</td>\n",
       "      <td>-0.108367</td>\n",
       "      <td>0.177757</td>\n",
       "      <td>0.167141</td>\n",
       "      <td>-0.011067</td>\n",
       "    </tr>\n",
       "    <tr>\n",
       "      <th>Attack</th>\n",
       "      <td>-0.177849</td>\n",
       "      <td>1.000000</td>\n",
       "      <td>0.338412</td>\n",
       "      <td>0.768859</td>\n",
       "      <td>-0.430805</td>\n",
       "      <td>-0.098999</td>\n",
       "      <td>0.169892</td>\n",
       "    </tr>\n",
       "    <tr>\n",
       "      <th>Block</th>\n",
       "      <td>-0.101040</td>\n",
       "      <td>0.338412</td>\n",
       "      <td>1.000000</td>\n",
       "      <td>0.335954</td>\n",
       "      <td>-0.132019</td>\n",
       "      <td>-0.348347</td>\n",
       "      <td>-0.265206</td>\n",
       "    </tr>\n",
       "    <tr>\n",
       "      <th>Serve</th>\n",
       "      <td>-0.108367</td>\n",
       "      <td>0.768859</td>\n",
       "      <td>0.335954</td>\n",
       "      <td>1.000000</td>\n",
       "      <td>-0.154815</td>\n",
       "      <td>-0.052501</td>\n",
       "      <td>0.039642</td>\n",
       "    </tr>\n",
       "    <tr>\n",
       "      <th>Set</th>\n",
       "      <td>0.177757</td>\n",
       "      <td>-0.430805</td>\n",
       "      <td>-0.132019</td>\n",
       "      <td>-0.154815</td>\n",
       "      <td>1.000000</td>\n",
       "      <td>0.131659</td>\n",
       "      <td>-0.305869</td>\n",
       "    </tr>\n",
       "    <tr>\n",
       "      <th>Dig</th>\n",
       "      <td>0.167141</td>\n",
       "      <td>-0.098999</td>\n",
       "      <td>-0.348347</td>\n",
       "      <td>-0.052501</td>\n",
       "      <td>0.131659</td>\n",
       "      <td>1.000000</td>\n",
       "      <td>0.624733</td>\n",
       "    </tr>\n",
       "    <tr>\n",
       "      <th>Receive</th>\n",
       "      <td>-0.011067</td>\n",
       "      <td>0.169892</td>\n",
       "      <td>-0.265206</td>\n",
       "      <td>0.039642</td>\n",
       "      <td>-0.305869</td>\n",
       "      <td>0.624733</td>\n",
       "      <td>1.000000</td>\n",
       "    </tr>\n",
       "  </tbody>\n",
       "</table>\n",
       "</div>"
      ],
      "text/plain": [
       "              Age    Attack     Block     Serve       Set       Dig   Receive\n",
       "Age      1.000000 -0.177849 -0.101040 -0.108367  0.177757  0.167141 -0.011067\n",
       "Attack  -0.177849  1.000000  0.338412  0.768859 -0.430805 -0.098999  0.169892\n",
       "Block   -0.101040  0.338412  1.000000  0.335954 -0.132019 -0.348347 -0.265206\n",
       "Serve   -0.108367  0.768859  0.335954  1.000000 -0.154815 -0.052501  0.039642\n",
       "Set      0.177757 -0.430805 -0.132019 -0.154815  1.000000  0.131659 -0.305869\n",
       "Dig      0.167141 -0.098999 -0.348347 -0.052501  0.131659  1.000000  0.624733\n",
       "Receive -0.011067  0.169892 -0.265206  0.039642 -0.305869  0.624733  1.000000"
      ]
     },
     "execution_count": 108,
     "metadata": {},
     "output_type": "execute_result"
    }
   ],
   "source": [
    "corr_mat"
   ]
  },
  {
   "cell_type": "code",
   "execution_count": 110,
   "id": "689d80cc-14e1-4e86-9379-ec9ec2a81a62",
   "metadata": {},
   "outputs": [
    {
     "data": {
      "image/png": "[encoded data removed]",
      "text/plain": [
       "<Figure size 640x480 with 2 Axes>"
      ]
     },
     "metadata": {},
     "output_type": "display_data"
    }
   ],
   "source": [
    "sns.heatmap(corr_mat, annot = True, cmap = 'coolwarm', linewidth = 5)\n",
    "plt.title(\"Correlation Matrix HeatMap\")\n",
    "plt.show()"
   ]
  },
  {
   "cell_type": "code",
   "execution_count": 111,
   "id": "abaf1c1d-a789-446d-986c-b497ca0a242b",
   "metadata": {},
   "outputs": [],
   "source": [
    "position_counts = df['Position'].value_counts()"
   ]
  },
  {
   "cell_type": "code",
   "execution_count": 112,
   "id": "07123c47-76ff-4aea-aee1-c59d3861b8b1",
   "metadata": {},
   "outputs": [
    {
     "data": {
      "text/plain": [
       "Position\n",
       "OH    42\n",
       "MB    32\n",
       "OP    25\n",
       "S     16\n",
       "L     16\n",
       "Name: count, dtype: int64"
      ]
     },
     "execution_count": 112,
     "metadata": {},
     "output_type": "execute_result"
    }
   ],
   "source": [
    "position_counts"
   ]
  },
  {
   "cell_type": "code",
   "execution_count": 115,
   "id": "772c8f2b-acc1-4496-a503-8b1c8ba462bf",
   "metadata": {},
   "outputs": [],
   "source": [
    "country_counts = df['Country'].value_counts()"
   ]
  },
  {
   "cell_type": "code",
   "execution_count": 116,
   "id": "ecac51fb-1cd6-45da-9fd7-ad111b2dc393",
   "metadata": {},
   "outputs": [
    {
     "data": {
      "text/plain": [
       "Country\n",
       "Poland       10\n",
       "France       10\n",
       "Iran          9\n",
       "USA           9\n",
       "Japan         8\n",
       "Italy         8\n",
       "Slovenia      8\n",
       "Serbia        8\n",
       "Argentina     8\n",
       "Germany       8\n",
       "Brazil        8\n",
       "China         8\n",
       "Bulgaria      8\n",
       "Cuba          7\n",
       "Nederland     7\n",
       "Canada        7\n",
       "Name: count, dtype: int64"
      ]
     },
     "execution_count": 116,
     "metadata": {},
     "output_type": "execute_result"
    }
   ],
   "source": [
    "country_counts"
   ]
  },
  {
   "cell_type": "code",
   "execution_count": 124,
   "id": "66cd327b-590a-4049-8e96-c8ee350962bd",
   "metadata": {
    "scrolled": true
   },
   "outputs": [
    {
     "data": {
      "image/png": "[encoded data removed]",
      "text/plain": [
       "<Figure size 640x480 with 1 Axes>"
      ]
     },
     "metadata": {},
     "output_type": "display_data"
    }
   ],
   "source": [
    "plt.pie(position_counts,labels = position_counts.index,autopct = \"%1.1f%%\", startangle = 90)\n",
    "plt.title(\"Distribution of Positions\")\n",
    "plt.show()"
   ]
  },
  {
   "cell_type": "code",
   "execution_count": 130,
   "id": "ba3a138d-c617-4604-89bb-ab52e1fdfcc1",
   "metadata": {},
   "outputs": [
    {
     "data": {
      "text/plain": [
       "Country\n",
       "France       6.670000\n",
       "Japan        6.595000\n",
       "Cuba         6.344286\n",
       "Serbia       5.998750\n",
       "Italy        5.965000\n",
       "Slovenia     5.961250\n",
       "Argentina    5.925000\n",
       "Nederland    5.880000\n",
       "Poland       5.807000\n",
       "Canada       5.405714\n",
       "Bulgaria     5.282500\n",
       "Brazil       5.250000\n",
       "China        5.093750\n",
       "Germany      4.833750\n",
       "Iran         4.707778\n",
       "USA          4.600000\n",
       "Name: Attack, dtype: float64"
      ]
     },
     "execution_count": 130,
     "metadata": {},
     "output_type": "execute_result"
    }
   ],
   "source": [
    "avg_attack_by_country = df.groupby('Country')['Attack'].mean()\n",
    "avg_attack_by_country.sort_values(ascending = False)"
   ]
  },
  {
   "cell_type": "code",
   "execution_count": 134,
   "id": "4d3ff4a0-1740-435c-8471-e3fefa502853",
   "metadata": {},
   "outputs": [
    {
     "data": {
      "image/png": "[encoded data removed]",
      "text/plain": [
       "<Figure size 640x480 with 1 Axes>"
      ]
     },
     "metadata": {},
     "output_type": "display_data"
    }
   ],
   "source": [
    "avg_attack_by_country.sort_values(ascending = True).head(5).plot(kind = 'bar')\n",
    "plt.title('Avg Attack By Each Country')\n",
    "plt.xlabel(\"Country\")\n",
    "plt.ylabel(\"Average Attack\")\n",
    "plt.show()"
   ]
  },
  {
   "cell_type": "code",
   "execution_count": 137,
   "id": "9a557553-df83-4502-a660-b1a3059b8c7b",
   "metadata": {},
   "outputs": [
    {
     "data": {
      "text/plain": [
       "Age\n",
       "31    0.910000\n",
       "20    0.880000\n",
       "21    0.770000\n",
       "26    0.681053\n",
       "28    0.667273\n",
       "Name: Serve, dtype: float64"
      ]
     },
     "execution_count": 137,
     "metadata": {},
     "output_type": "execute_result"
    }
   ],
   "source": [
    "avg_serve_age = df.groupby('Age')['Serve'].mean().sort_values(ascending=False).head(5)\n",
    "avg_serve_age"
   ]
  },
  {
   "cell_type": "code",
   "execution_count": 150,
   "id": "b08dd4cb-1d08-4572-96bd-d4b8ce763bdd",
   "metadata": {},
   "outputs": [
    {
     "data": {
      "text/html": [
       "<div>\n",
       "<style scoped>\n",
       "    .dataframe tbody tr th:only-of-type {\n",
       "        vertical-align: middle;\n",
       "    }\n",
       "\n",
       "    .dataframe tbody tr th {\n",
       "        vertical-align: top;\n",
       "    }\n",
       "\n",
       "    .dataframe thead th {\n",
       "        text-align: right;\n",
       "    }\n",
       "</style>\n",
       "<table border=\"1\" class=\"dataframe\">\n",
       "  <thead>\n",
       "    <tr style=\"text-align: right;\">\n",
       "      <th></th>\n",
       "      <th>Country</th>\n",
       "      <th>Player</th>\n",
       "      <th>Position</th>\n",
       "      <th>Attack</th>\n",
       "    </tr>\n",
       "  </thead>\n",
       "  <tbody>\n",
       "    <tr>\n",
       "      <th>81</th>\n",
       "      <td>Japan</td>\n",
       "      <td>Ichikawa Yuki</td>\n",
       "      <td>OH</td>\n",
       "      <td>15.80</td>\n",
       "    </tr>\n",
       "    <tr>\n",
       "      <th>89</th>\n",
       "      <td>Nederland</td>\n",
       "      <td>Abdel-Aziz Nimir</td>\n",
       "      <td>OP</td>\n",
       "      <td>15.33</td>\n",
       "    </tr>\n",
       "    <tr>\n",
       "      <th>52</th>\n",
       "      <td>France</td>\n",
       "      <td>Faure Theo</td>\n",
       "      <td>OP</td>\n",
       "      <td>15.25</td>\n",
       "    </tr>\n",
       "    <tr>\n",
       "      <th>41</th>\n",
       "      <td>Cuba</td>\n",
       "      <td>Herrera Jaime Jesus</td>\n",
       "      <td>OP</td>\n",
       "      <td>15.00</td>\n",
       "    </tr>\n",
       "    <tr>\n",
       "      <th>110</th>\n",
       "      <td>Serbia</td>\n",
       "      <td>Luburic Drazen</td>\n",
       "      <td>OP</td>\n",
       "      <td>14.33</td>\n",
       "    </tr>\n",
       "    <tr>\n",
       "      <th>21</th>\n",
       "      <td>Bulgaria</td>\n",
       "      <td>Nikolov Aleksandar</td>\n",
       "      <td>OH</td>\n",
       "      <td>14.25</td>\n",
       "    </tr>\n",
       "    <tr>\n",
       "      <th>38</th>\n",
       "      <td>China</td>\n",
       "      <td>Zhang Jingyin</td>\n",
       "      <td>OH</td>\n",
       "      <td>13.50</td>\n",
       "    </tr>\n",
       "    <tr>\n",
       "      <th>121</th>\n",
       "      <td>Slovenia</td>\n",
       "      <td>Urnaut Tine</td>\n",
       "      <td>OH</td>\n",
       "      <td>12.62</td>\n",
       "    </tr>\n",
       "    <tr>\n",
       "      <th>14</th>\n",
       "      <td>Brazil</td>\n",
       "      <td>Souza Alen</td>\n",
       "      <td>OP</td>\n",
       "      <td>12.46</td>\n",
       "    </tr>\n",
       "    <tr>\n",
       "      <th>79</th>\n",
       "      <td>Italy</td>\n",
       "      <td>Romano Yuri</td>\n",
       "      <td>OP</td>\n",
       "      <td>12.33</td>\n",
       "    </tr>\n",
       "  </tbody>\n",
       "</table>\n",
       "</div>"
      ],
      "text/plain": [
       "       Country               Player Position  Attack\n",
       "81       Japan        Ichikawa Yuki       OH   15.80\n",
       "89   Nederland     Abdel-Aziz Nimir       OP   15.33\n",
       "52      France           Faure Theo       OP   15.25\n",
       "41        Cuba  Herrera Jaime Jesus       OP   15.00\n",
       "110     Serbia       Luburic Drazen       OP   14.33\n",
       "21    Bulgaria   Nikolov Aleksandar       OH   14.25\n",
       "38       China        Zhang Jingyin       OH   13.50\n",
       "121   Slovenia          Urnaut Tine       OH   12.62\n",
       "14      Brazil           Souza Alen       OP   12.46\n",
       "79       Italy          Romano Yuri       OP   12.33"
      ]
     },
     "execution_count": 150,
     "metadata": {},
     "output_type": "execute_result"
    }
   ],
   "source": [
    "df.groupby(['Country','Player','Position'])['Attack'].max().reset_index().sort_values(ascending = False,by = 'Attack').head(10)"
   ]
  },
  {
   "cell_type": "code",
   "execution_count": 147,
   "id": "67fb83f6-353d-49e3-8880-15f0cabc6e38",
   "metadata": {},
   "outputs": [
    {
     "data": {
      "text/html": [
       "<div>\n",
       "<style scoped>\n",
       "    .dataframe tbody tr th:only-of-type {\n",
       "        vertical-align: middle;\n",
       "    }\n",
       "\n",
       "    .dataframe tbody tr th {\n",
       "        vertical-align: top;\n",
       "    }\n",
       "\n",
       "    .dataframe thead th {\n",
       "        text-align: right;\n",
       "    }\n",
       "</style>\n",
       "<table border=\"1\" class=\"dataframe\">\n",
       "  <thead>\n",
       "    <tr style=\"text-align: right;\">\n",
       "      <th></th>\n",
       "      <th>Player</th>\n",
       "      <th>Country</th>\n",
       "      <th>Age</th>\n",
       "      <th>Attack</th>\n",
       "      <th>Block</th>\n",
       "      <th>Serve</th>\n",
       "      <th>Set</th>\n",
       "      <th>Dig</th>\n",
       "      <th>Receive</th>\n",
       "      <th>Position</th>\n",
       "    </tr>\n",
       "  </thead>\n",
       "  <tbody>\n",
       "    <tr>\n",
       "      <th>0</th>\n",
       "      <td>Ichikawa Yuki</td>\n",
       "      <td>Japan</td>\n",
       "      <td>28</td>\n",
       "      <td>15.80</td>\n",
       "      <td>1.13</td>\n",
       "      <td>1.40</td>\n",
       "      <td>0.07</td>\n",
       "      <td>4.80</td>\n",
       "      <td>5.6</td>\n",
       "      <td>OH</td>\n",
       "    </tr>\n",
       "    <tr>\n",
       "      <th>1</th>\n",
       "      <td>Romano Yuri</td>\n",
       "      <td>Italy</td>\n",
       "      <td>26</td>\n",
       "      <td>12.33</td>\n",
       "      <td>1.07</td>\n",
       "      <td>1.47</td>\n",
       "      <td>0.00</td>\n",
       "      <td>3.87</td>\n",
       "      <td>0.0</td>\n",
       "      <td>OP</td>\n",
       "    </tr>\n",
       "  </tbody>\n",
       "</table>\n",
       "</div>"
      ],
      "text/plain": [
       "          Player Country  Age  Attack  Block  Serve   Set   Dig  Receive  \\\n",
       "0  Ichikawa Yuki   Japan   28   15.80   1.13   1.40  0.07  4.80      5.6   \n",
       "1    Romano Yuri   Italy   26   12.33   1.07   1.47  0.00  3.87      0.0   \n",
       "\n",
       "  Position  \n",
       "0       OH  \n",
       "1       OP  "
      ]
     },
     "execution_count": 147,
     "metadata": {},
     "output_type": "execute_result"
    }
   ],
   "source": [
    "df.head(2)"
   ]
  },
  {
   "cell_type": "code",
   "execution_count": 159,
   "id": "c7934c9c-4b49-4d8a-8644-28685ae7db20",
   "metadata": {},
   "outputs": [
    {
     "data": {
      "text/html": [
       "<div>\n",
       "<style scoped>\n",
       "    .dataframe tbody tr th:only-of-type {\n",
       "        vertical-align: middle;\n",
       "    }\n",
       "\n",
       "    .dataframe tbody tr th {\n",
       "        vertical-align: top;\n",
       "    }\n",
       "\n",
       "    .dataframe thead th {\n",
       "        text-align: right;\n",
       "    }\n",
       "</style>\n",
       "<table border=\"1\" class=\"dataframe\">\n",
       "  <thead>\n",
       "    <tr style=\"text-align: right;\">\n",
       "      <th></th>\n",
       "      <th>Country</th>\n",
       "      <th>Player</th>\n",
       "      <th>Position</th>\n",
       "      <th>Dig</th>\n",
       "    </tr>\n",
       "  </thead>\n",
       "  <tbody>\n",
       "    <tr>\n",
       "      <th>53</th>\n",
       "      <td>France</td>\n",
       "      <td>Grebennikov Jenia</td>\n",
       "      <td>L</td>\n",
       "      <td>11.44</td>\n",
       "    </tr>\n",
       "    <tr>\n",
       "      <th>73</th>\n",
       "      <td>Italy</td>\n",
       "      <td>Balaso Fabio</td>\n",
       "      <td>L</td>\n",
       "      <td>10.00</td>\n",
       "    </tr>\n",
       "    <tr>\n",
       "      <th>115</th>\n",
       "      <td>Slovenia</td>\n",
       "      <td>Kovacic Jani</td>\n",
       "      <td>L</td>\n",
       "      <td>9.85</td>\n",
       "    </tr>\n",
       "    <tr>\n",
       "      <th>87</th>\n",
       "      <td>Japan</td>\n",
       "      <td>Yamamoto Tomohiro</td>\n",
       "      <td>L</td>\n",
       "      <td>8.73</td>\n",
       "    </tr>\n",
       "    <tr>\n",
       "      <th>0</th>\n",
       "      <td>Argentina</td>\n",
       "      <td>Danani Santiago</td>\n",
       "      <td>L</td>\n",
       "      <td>8.69</td>\n",
       "    </tr>\n",
       "    <tr>\n",
       "      <th>105</th>\n",
       "      <td>Poland</td>\n",
       "      <td>Zatorski Pawel</td>\n",
       "      <td>L</td>\n",
       "      <td>7.09</td>\n",
       "    </tr>\n",
       "    <tr>\n",
       "      <th>90</th>\n",
       "      <td>Nederland</td>\n",
       "      <td>Andringa Robbert</td>\n",
       "      <td>L</td>\n",
       "      <td>6.92</td>\n",
       "    </tr>\n",
       "    <tr>\n",
       "      <th>75</th>\n",
       "      <td>Italy</td>\n",
       "      <td>Giannelli Simone</td>\n",
       "      <td>S</td>\n",
       "      <td>6.64</td>\n",
       "    </tr>\n",
       "    <tr>\n",
       "      <th>34</th>\n",
       "      <td>China</td>\n",
       "      <td>Qu Zongshuai</td>\n",
       "      <td>L</td>\n",
       "      <td>6.58</td>\n",
       "    </tr>\n",
       "    <tr>\n",
       "      <th>107</th>\n",
       "      <td>Serbia</td>\n",
       "      <td>Kapur Milorad</td>\n",
       "      <td>L</td>\n",
       "      <td>6.50</td>\n",
       "    </tr>\n",
       "  </tbody>\n",
       "</table>\n",
       "</div>"
      ],
      "text/plain": [
       "       Country             Player Position    Dig\n",
       "53      France  Grebennikov Jenia        L  11.44\n",
       "73       Italy       Balaso Fabio        L  10.00\n",
       "115   Slovenia       Kovacic Jani        L   9.85\n",
       "87       Japan  Yamamoto Tomohiro        L   8.73\n",
       "0    Argentina    Danani Santiago        L   8.69\n",
       "105     Poland    Zatorski Pawel         L   7.09\n",
       "90   Nederland   Andringa Robbert        L   6.92\n",
       "75       Italy   Giannelli Simone        S   6.64\n",
       "34       China       Qu Zongshuai        L   6.58\n",
       "107     Serbia     Kapur Milorad         L   6.50"
      ]
     },
     "execution_count": 159,
     "metadata": {},
     "output_type": "execute_result"
    }
   ],
   "source": [
    "df.groupby(['Country','Player','Position'])['Dig'].max().reset_index().sort_values(ascending=False,by='Dig').head(10)"
   ]
  },
  {
   "cell_type": "code",
   "execution_count": 163,
   "id": "7297088c-475d-44b8-8bec-c3d402c4eb41",
   "metadata": {},
   "outputs": [
    {
     "data": {
      "text/plain": [
       "Country\n",
       "France       38.59\n",
       "Italy        35.89\n",
       "Argentina    33.88\n",
       "Slovenia     33.85\n",
       "Poland       32.56\n",
       "Japan        32.38\n",
       "Serbia       30.64\n",
       "USA          28.42\n",
       "Canada       26.50\n",
       "Brazil       24.61\n",
       "Iran         24.25\n",
       "Bulgaria     22.45\n",
       "China        22.08\n",
       "Nederland    21.84\n",
       "Germany      20.92\n",
       "Cuba         20.26\n",
       "Name: Dig, dtype: float64"
      ]
     },
     "execution_count": 163,
     "metadata": {},
     "output_type": "execute_result"
    }
   ],
   "source": [
    "df.groupby(['Country'])['Dig'].sum().sort_values(ascending = False)"
   ]
  },
  {
   "cell_type": "code",
   "execution_count": 165,
   "id": "e19a14e1-bce6-4ec6-b1bd-195fcb2086ce",
   "metadata": {},
   "outputs": [
    {
     "data": {
      "text/plain": [
       "Index(['Player', 'Country', 'Age', 'Attack', 'Block', 'Serve', 'Set', 'Dig',\n",
       "       'Receive', 'Position'],\n",
       "      dtype='object')"
      ]
     },
     "execution_count": 165,
     "metadata": {},
     "output_type": "execute_result"
    }
   ],
   "source": [
    "df.columns"
   ]
  },
  {
   "cell_type": "code",
   "execution_count": null,
   "id": "0f23a29b-42d1-4693-a359-4f5142a17498",
   "metadata": {},
   "outputs": [],
   "source": [
    "df.rename(columns ="
   ]
  },
  {
   "cell_type": "code",
   "execution_count": 166,
   "id": "1f928097-78ba-4cd0-8ddf-2718f8952065",
   "metadata": {},
   "outputs": [
    {
     "data": {
      "image/png": "[encoded data removed]",
      "text/plain": [
       "<Figure size 640x480 with 1 Axes>"
      ]
     },
     "metadata": {},
     "output_type": "display_data"
    }
   ],
   "source": [
    "plt.scatter(df['Block'],df['Receive'])\n",
    "plt.title(\"Scatter Plot: Block vs Receive\")\n",
    "plt.xlabel(\"Block\")\n",
    "plt.ylabel(\"Receive\")\n",
    "plt.show()"
   ]
  },
  {
   "cell_type": "code",
   "execution_count": 6,
   "id": "b4d2083c-8c2d-473f-9753-7d0f46426c15",
   "metadata": {},
   "outputs": [
    {
     "data": {
      "image/png": "[encoded data removed]",
      "text/plain": [
       "<Figure size 640x480 with 1 Axes>"
      ]
     },
     "metadata": {},
     "output_type": "display_data"
    }
   ],
   "source": [
    "sns.boxplot(x= df['Serve'])\n",
    "plt.title('Box Plot: Distribution of Serve Values')\n",
    "plt.xlabel('Serve')\n",
    "plt.show()"
   ]
  },
  {
   "cell_type": "code",
   "execution_count": 14,
   "id": "0397c3b7-b822-40d2-b0ec-a4da0b12f0e8",
   "metadata": {},
   "outputs": [
    {
     "data": {
      "image/png": "[encoded data removed]",
      "text/plain": [
       "<Figure size 640x480 with 1 Axes>"
      ]
     },
     "metadata": {},
     "output_type": "display_data"
    }
   ],
   "source": [
    "plt.hist(df['Age'], bins= 20, color ='skyblue', edgecolor = 'black')\n",
    "plt.title('Distribution of Age')\n",
    "plt.xlabel(\"Age\")\n",
    "plt.ylabel(\"Frequency\")\n",
    "plt.show()"
   ]
  },
  {
   "cell_type": "code",
   "execution_count": 21,
   "id": "186efb39-87a2-4341-baca-45dc9fb9cb01",
   "metadata": {},
   "outputs": [
    {
     "data": {
      "image/png": "[encoded data removed]",
      "text/plain": [
       "<Figure size 640x480 with 1 Axes>"
      ]
     },
     "metadata": {},
     "output_type": "display_data"
    }
   ],
   "source": [
    "avg_attack_by_position = df.groupby(\"Position\")['Attack'].mean()\n",
    "avg_attack_by_position.sort_values(ascending= True).plot(kind = 'bar', color = 'lightblue')\n",
    "plt.title('Average Attack By Position')\n",
    "plt.xlabel('Position')\n",
    "plt.ylabel('Attack')\n",
    "plt.show()"
   ]
  },
  {
   "cell_type": "code",
   "execution_count": 29,
   "id": "305b1ca0-b913-4e0f-898d-59c42c09da02",
   "metadata": {},
   "outputs": [
    {
     "data": {
      "image/png": "[encoded data removed]",
      "text/plain": [
       "<Figure size 640x480 with 1 Axes>"
      ]
     },
     "metadata": {},
     "output_type": "display_data"
    }
   ],
   "source": [
    "serve_trend_by_age = df.groupby('Age')['Serve'].mean()\n",
    "serve_trend_by_age.plot(kind = 'line', marker = '.', linestyle ='-', color = 'orange')\n",
    "plt.title(\"Serve Trend By Age\")\n",
    "plt.xlabel(\"AGE\")\n",
    "plt.ylabel(\"AVG SERVE\")\n",
    "plt.show()\n"
   ]
  },
  {
   "cell_type": "code",
   "execution_count": 50,
   "id": "cd80e52f-8aee-40e3-874f-c22e9429d505",
   "metadata": {},
   "outputs": [
    {
     "data": {
      "text/html": [
       "<div>\n",
       "<style scoped>\n",
       "    .dataframe tbody tr th:only-of-type {\n",
       "        vertical-align: middle;\n",
       "    }\n",
       "\n",
       "    .dataframe tbody tr th {\n",
       "        vertical-align: top;\n",
       "    }\n",
       "\n",
       "    .dataframe thead th {\n",
       "        text-align: right;\n",
       "    }\n",
       "</style>\n",
       "<table border=\"1\" class=\"dataframe\">\n",
       "  <thead>\n",
       "    <tr style=\"text-align: right;\">\n",
       "      <th></th>\n",
       "      <th>Attack</th>\n",
       "      <th>Block</th>\n",
       "      <th>Dig</th>\n",
       "    </tr>\n",
       "    <tr>\n",
       "      <th>Country</th>\n",
       "      <th></th>\n",
       "      <th></th>\n",
       "      <th></th>\n",
       "    </tr>\n",
       "  </thead>\n",
       "  <tbody>\n",
       "    <tr>\n",
       "      <th>Argentina</th>\n",
       "      <td>47.40</td>\n",
       "      <td>8.48</td>\n",
       "      <td>33.88</td>\n",
       "    </tr>\n",
       "    <tr>\n",
       "      <th>Brazil</th>\n",
       "      <td>42.00</td>\n",
       "      <td>6.30</td>\n",
       "      <td>24.61</td>\n",
       "    </tr>\n",
       "    <tr>\n",
       "      <th>Bulgaria</th>\n",
       "      <td>42.26</td>\n",
       "      <td>5.96</td>\n",
       "      <td>22.45</td>\n",
       "    </tr>\n",
       "    <tr>\n",
       "      <th>Canada</th>\n",
       "      <td>37.84</td>\n",
       "      <td>5.08</td>\n",
       "      <td>26.50</td>\n",
       "    </tr>\n",
       "    <tr>\n",
       "      <th>China</th>\n",
       "      <td>40.75</td>\n",
       "      <td>5.66</td>\n",
       "      <td>22.08</td>\n",
       "    </tr>\n",
       "    <tr>\n",
       "      <th>Cuba</th>\n",
       "      <td>44.41</td>\n",
       "      <td>6.76</td>\n",
       "      <td>20.26</td>\n",
       "    </tr>\n",
       "    <tr>\n",
       "      <th>France</th>\n",
       "      <td>66.70</td>\n",
       "      <td>9.08</td>\n",
       "      <td>38.59</td>\n",
       "    </tr>\n",
       "    <tr>\n",
       "      <th>Germany</th>\n",
       "      <td>38.67</td>\n",
       "      <td>5.04</td>\n",
       "      <td>20.92</td>\n",
       "    </tr>\n",
       "    <tr>\n",
       "      <th>Iran</th>\n",
       "      <td>42.37</td>\n",
       "      <td>8.39</td>\n",
       "      <td>24.25</td>\n",
       "    </tr>\n",
       "    <tr>\n",
       "      <th>Italy</th>\n",
       "      <td>47.72</td>\n",
       "      <td>10.09</td>\n",
       "      <td>35.89</td>\n",
       "    </tr>\n",
       "    <tr>\n",
       "      <th>Japan</th>\n",
       "      <td>52.76</td>\n",
       "      <td>4.41</td>\n",
       "      <td>32.38</td>\n",
       "    </tr>\n",
       "    <tr>\n",
       "      <th>Nederland</th>\n",
       "      <td>41.16</td>\n",
       "      <td>5.42</td>\n",
       "      <td>21.84</td>\n",
       "    </tr>\n",
       "    <tr>\n",
       "      <th>Poland</th>\n",
       "      <td>58.07</td>\n",
       "      <td>8.18</td>\n",
       "      <td>32.56</td>\n",
       "    </tr>\n",
       "    <tr>\n",
       "      <th>Serbia</th>\n",
       "      <td>47.99</td>\n",
       "      <td>8.30</td>\n",
       "      <td>30.64</td>\n",
       "    </tr>\n",
       "    <tr>\n",
       "      <th>Slovenia</th>\n",
       "      <td>47.69</td>\n",
       "      <td>6.77</td>\n",
       "      <td>33.85</td>\n",
       "    </tr>\n",
       "    <tr>\n",
       "      <th>USA</th>\n",
       "      <td>41.40</td>\n",
       "      <td>6.85</td>\n",
       "      <td>28.42</td>\n",
       "    </tr>\n",
       "  </tbody>\n",
       "</table>\n",
       "</div>"
      ],
      "text/plain": [
       "           Attack  Block    Dig\n",
       "Country                        \n",
       "Argentina   47.40   8.48  33.88\n",
       "Brazil      42.00   6.30  24.61\n",
       "Bulgaria    42.26   5.96  22.45\n",
       "Canada      37.84   5.08  26.50\n",
       "China       40.75   5.66  22.08\n",
       "Cuba        44.41   6.76  20.26\n",
       "France      66.70   9.08  38.59\n",
       "Germany     38.67   5.04  20.92\n",
       "Iran        42.37   8.39  24.25\n",
       "Italy       47.72  10.09  35.89\n",
       "Japan       52.76   4.41  32.38\n",
       "Nederland   41.16   5.42  21.84\n",
       "Poland      58.07   8.18  32.56\n",
       "Serbia      47.99   8.30  30.64\n",
       "Slovenia    47.69   6.77  33.85\n",
       "USA         41.40   6.85  28.42"
      ]
     },
     "execution_count": 50,
     "metadata": {},
     "output_type": "execute_result"
    }
   ],
   "source": [
    "total_attack_block_by_country = df.groupby('Country')[['Attack','Block','Dig']].sum()\n",
    "total_attack_block_by_country"
   ]
  },
  {
   "cell_type": "code",
   "execution_count": 52,
   "id": "39503c91-8104-4ed2-bd13-7fcbb047acba",
   "metadata": {},
   "outputs": [
    {
     "data": {
      "image/png": "[encoded data removed]",
      "text/plain": [
       "<Figure size 640x480 with 1 Axes>"
      ]
     },
     "metadata": {},
     "output_type": "display_data"
    }
   ],
   "source": [
    "total_attack_block_by_country.sort_values(ascending = False, by= 'Dig').plot(kind = 'bar', stacked = True, colormap= 'viridis')\n",
    "plt.title('Total Attack And Block By Country')\n",
    "plt.xlabel('Country')\n",
    "plt.ylabel('Total Value')\n",
    "plt.show()"
   ]
  },
  {
   "cell_type": "code",
   "execution_count": null,
   "id": "3b11e6e5-4e87-4adf-880d-26c6c9d0c109",
   "metadata": {},
   "outputs": [],
   "source": []
  }
 ],
 "metadata": {
  "kernelspec": {
   "display_name": "Python 3 (ipykernel)",
   "language": "python",
   "name": "python3"
  },
  "language_info": {
   "codemirror_mode": {
    "name": "ipython",
    "version": 3
   },
   "file_extension": ".py",
   "mimetype": "text/x-python",
   "name": "python",
   "nbconvert_exporter": "python",
   "pygments_lexer": "ipython3",
   "version": "3.13.2"
  }
 },
 "nbformat": 4,
 "nbformat_minor": 5
}
